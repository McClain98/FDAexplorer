{
 "cells": [
  {
   "cell_type": "markdown",
   "source": [
    "# Finding, Scraping and Parsing summary pdfs accosiated with FDA 501(k) sumbissions"
   ],
   "metadata": {
    "collapsed": false,
    "pycharm": {
     "name": "#%% md\n"
    }
   }
  },
  {
   "cell_type": "code",
   "execution_count": null,
   "outputs": [],
   "source": [
    "import sys\n",
    "sys.path.append(\"..\")\n",
    "\n",
    "import pandas as pd\n",
    "import numpy as np\n",
    "import os\n",
    "from datetime import datetime\n",
    "import requests\n",
    "from bs4 import BeautifulSoup\n",
    "import tabula.io\n",
    "\n",
    "\n",
    "from src.data import metadata\n",
    "import importlib\n",
    "importlib.reload(metadata)"
   ],
   "metadata": {
    "collapsed": false,
    "pycharm": {
     "name": "#%%\n"
    }
   }
  },
  {
   "cell_type": "markdown",
   "source": [
    "## Finding submissions\n",
    "\n",
    "[This](https://www.fda.gov/medical-devices/510k-clearances/downloadable-510k-files) site has many submissions\n",
    "available for download. They just contain metadata stored in a weird format by year. See the following:"
   ],
   "metadata": {
    "collapsed": false,
    "pycharm": {
     "name": "#%% md\n"
    }
   }
  },
  {
   "cell_type": "code",
   "execution_count": 138,
   "outputs": [
    {
     "name": "stdout",
     "output_type": "stream",
     "text": [
      "Shape of legacy submissions from 1976 to 1995: (75477, 22)\n"
     ]
    },
    {
     "data": {
      "text/plain": "   KNUMBER                     APPLICANT CONTACT                   STREET1  \\\n0  K760001                  ZIMMER, INC.     NaN   4221 Richmond Rd., N.W.   \n1  K760002                  ZIMMER, INC.     NaN                       NaN   \n2  K760003                  ZIMMER, INC.     NaN  803 N. Front St. Suite 3   \n3  K760004  STEWART-NAUMANN LABORATORIES     NaN  803 N. Front St. Suite 3   \n4  K760005  STEWART-NAUMANN LABORATORIES     NaN  803 N. Front St. Suite 3   \n\n  STREET2     CITY STATE COUNTRY_CODE    ZIP POSTAL_CODE  ... DECISION  \\\n0     NaN   Walker    MI           US  49534       49534  ...     SESE   \n1     NaN      NaN    MO           US    NaN         NaN  ...     SESE   \n2     NaN  McHenry    IL           US  60050       60050  ...     SESE   \n3     NaN  McHenry    IL           US  60050       60050  ...     SESE   \n4     NaN  McHenry    IL           US  60050       60050  ...     SESE   \n\n  REVIEWADVISECOMM PRODUCTCODE STATEORSUMM CLASSADVISECOMM SSPINDICATOR  \\\n0               PM         NaN         NaN             NaN          NaN   \n1               PM         IQI         NaN              PM          NaN   \n2               PM         ITG         NaN              PM          NaN   \n3               HO         FMF         NaN              HO          NaN   \n4               HO         FMF         NaN              HO          NaN   \n\n          TYPE  THIRDPARTY EXPEDITEDREVIEW  \\\n0  Traditional           N             NaN   \n1  Traditional           N             NaN   \n2  Traditional           N             NaN   \n3  Traditional           N             NaN   \n4  Traditional           N             NaN   \n\n                             DEVICENAME  \n0               ARCH SUPPORT (ARCH AID)  \n1                              KNEE AID  \n2    CAST MATERIAL (WICKET STOCKINETTE)  \n3      SYRINGE, DISPOSABLE, ALL PLASTIC  \n4  SYRINGE, DISPOSABLE, GLASS & PLASTIC  \n\n[5 rows x 22 columns]",
      "text/html": "<div>\n<style scoped>\n    .dataframe tbody tr th:only-of-type {\n        vertical-align: middle;\n    }\n\n    .dataframe tbody tr th {\n        vertical-align: top;\n    }\n\n    .dataframe thead th {\n        text-align: right;\n    }\n</style>\n<table border=\"1\" class=\"dataframe\">\n  <thead>\n    <tr style=\"text-align: right;\">\n      <th></th>\n      <th>KNUMBER</th>\n      <th>APPLICANT</th>\n      <th>CONTACT</th>\n      <th>STREET1</th>\n      <th>STREET2</th>\n      <th>CITY</th>\n      <th>STATE</th>\n      <th>COUNTRY_CODE</th>\n      <th>ZIP</th>\n      <th>POSTAL_CODE</th>\n      <th>...</th>\n      <th>DECISION</th>\n      <th>REVIEWADVISECOMM</th>\n      <th>PRODUCTCODE</th>\n      <th>STATEORSUMM</th>\n      <th>CLASSADVISECOMM</th>\n      <th>SSPINDICATOR</th>\n      <th>TYPE</th>\n      <th>THIRDPARTY</th>\n      <th>EXPEDITEDREVIEW</th>\n      <th>DEVICENAME</th>\n    </tr>\n  </thead>\n  <tbody>\n    <tr>\n      <th>0</th>\n      <td>K760001</td>\n      <td>ZIMMER, INC.</td>\n      <td>NaN</td>\n      <td>4221 Richmond Rd., N.W.</td>\n      <td>NaN</td>\n      <td>Walker</td>\n      <td>MI</td>\n      <td>US</td>\n      <td>49534</td>\n      <td>49534</td>\n      <td>...</td>\n      <td>SESE</td>\n      <td>PM</td>\n      <td>NaN</td>\n      <td>NaN</td>\n      <td>NaN</td>\n      <td>NaN</td>\n      <td>Traditional</td>\n      <td>N</td>\n      <td>NaN</td>\n      <td>ARCH SUPPORT (ARCH AID)</td>\n    </tr>\n    <tr>\n      <th>1</th>\n      <td>K760002</td>\n      <td>ZIMMER, INC.</td>\n      <td>NaN</td>\n      <td>NaN</td>\n      <td>NaN</td>\n      <td>NaN</td>\n      <td>MO</td>\n      <td>US</td>\n      <td>NaN</td>\n      <td>NaN</td>\n      <td>...</td>\n      <td>SESE</td>\n      <td>PM</td>\n      <td>IQI</td>\n      <td>NaN</td>\n      <td>PM</td>\n      <td>NaN</td>\n      <td>Traditional</td>\n      <td>N</td>\n      <td>NaN</td>\n      <td>KNEE AID</td>\n    </tr>\n    <tr>\n      <th>2</th>\n      <td>K760003</td>\n      <td>ZIMMER, INC.</td>\n      <td>NaN</td>\n      <td>803 N. Front St. Suite 3</td>\n      <td>NaN</td>\n      <td>McHenry</td>\n      <td>IL</td>\n      <td>US</td>\n      <td>60050</td>\n      <td>60050</td>\n      <td>...</td>\n      <td>SESE</td>\n      <td>PM</td>\n      <td>ITG</td>\n      <td>NaN</td>\n      <td>PM</td>\n      <td>NaN</td>\n      <td>Traditional</td>\n      <td>N</td>\n      <td>NaN</td>\n      <td>CAST MATERIAL (WICKET STOCKINETTE)</td>\n    </tr>\n    <tr>\n      <th>3</th>\n      <td>K760004</td>\n      <td>STEWART-NAUMANN LABORATORIES</td>\n      <td>NaN</td>\n      <td>803 N. Front St. Suite 3</td>\n      <td>NaN</td>\n      <td>McHenry</td>\n      <td>IL</td>\n      <td>US</td>\n      <td>60050</td>\n      <td>60050</td>\n      <td>...</td>\n      <td>SESE</td>\n      <td>HO</td>\n      <td>FMF</td>\n      <td>NaN</td>\n      <td>HO</td>\n      <td>NaN</td>\n      <td>Traditional</td>\n      <td>N</td>\n      <td>NaN</td>\n      <td>SYRINGE, DISPOSABLE, ALL PLASTIC</td>\n    </tr>\n    <tr>\n      <th>4</th>\n      <td>K760005</td>\n      <td>STEWART-NAUMANN LABORATORIES</td>\n      <td>NaN</td>\n      <td>803 N. Front St. Suite 3</td>\n      <td>NaN</td>\n      <td>McHenry</td>\n      <td>IL</td>\n      <td>US</td>\n      <td>60050</td>\n      <td>60050</td>\n      <td>...</td>\n      <td>SESE</td>\n      <td>HO</td>\n      <td>FMF</td>\n      <td>NaN</td>\n      <td>HO</td>\n      <td>NaN</td>\n      <td>Traditional</td>\n      <td>N</td>\n      <td>NaN</td>\n      <td>SYRINGE, DISPOSABLE, GLASS &amp; PLASTIC</td>\n    </tr>\n  </tbody>\n</table>\n<p>5 rows × 22 columns</p>\n</div>"
     },
     "execution_count": 138,
     "metadata": {},
     "output_type": "execute_result"
    }
   ],
   "source": [
    "metadata_df = metadata.build_df()\n",
    "print(\"Shape of legacy submissions from 1976 to 1995: {}\".format(metadata_df.shape))\n",
    "metadata_df.head()"
   ],
   "metadata": {
    "collapsed": false,
    "pycharm": {
     "name": "#%%\n"
    }
   }
  },
  {
   "cell_type": "markdown",
   "source": [
    "As you can see, even when the data is complete (which is rare) there's not a ton of useful information for finding\n",
    "similar devices and stuff like that. However, many documents will have a summary pdf associated with them\n",
    "that looks like [this](https://github.com/McClain98/FDAexplorer/blob/main/FDAExplorer/data/raw/pdfs/K183074.pdf). These documents have more information and\n",
    "might prove to be pretty useful so I'm going to work on parsing these.\n",
    "\n",
    "I've simplified the work flow so that all you need to know is the K number (the first column of the table above) and\n",
    "the program will find a summary pdf if it exists.\n",
    "\n",
    "**NOTE: Many of these documents don't have a summary pdf associated with them but generally the more recent\n",
    "submissions do and because we do software, and software didn't exist in 1976, I assume this is ok.**\n",
    "\n",
    "See below for a simple way to find and save these summary docs:"
   ],
   "metadata": {
    "collapsed": false,
    "pycharm": {
     "name": "#%% md\n"
    }
   }
  },
  {
   "cell_type": "code",
   "execution_count": 107,
   "outputs": [
    {
     "name": "stderr",
     "output_type": "stream",
     "text": [
      "GuessedAtParserWarning: No parser was explicitly specified, so I'm using the best available HTML parser for this system (\"html.parser\"). This usually isn't a problem, but if you run this code on another system, or in a different virtual environment, it may use a different parser and behave differently.\n",
      "\n",
      "The code that caused this warning is on line 73 of the file ../src/data/metadata.py. To get rid of this warning, pass the additional argument 'features=\"html.parser\"' to the BeautifulSoup constructor.\n",
      " [metadata.py:73]\n"
     ]
    },
    {
     "name": "stdout",
     "output_type": "stream",
     "text": [
      "/Users/mcclainthiel/Dropbox (MurDropBox)/FDAexplorer/FDAExplorer/notebooks\n"
     ]
    }
   ],
   "source": [
    "k_number = 'K183074'\n",
    "loc = metadata.fetch_summary_pdf(k_number)\n",
    "#this is where the pdf is saved locally. I couldn't figure out how ot do this dynamically but in production we would\n",
    "# save the pdf anyway\n",
    "loc"
   ],
   "metadata": {
    "collapsed": false,
    "pycharm": {
     "name": "#%%\n"
    }
   }
  },
  {
   "cell_type": "markdown",
   "source": [
    "Now that we have a pdf, what can we do with it?\n",
    "\n",
    "We can grab all the text pretty easily and just dump it. This might be pretty useful for a similarity metric using\n",
    "some combination of bag of words and embedding models after a bit of cleaning. See below for example:"
   ],
   "metadata": {
    "collapsed": false,
    "pycharm": {
     "name": "#%% md\n"
    }
   }
  },
  {
   "cell_type": "code",
   "execution_count": 111,
   "outputs": [],
   "source": [
    "import PyPDF2\n",
    "pdf_file = open(loc, 'rb')\n",
    "read_pdf = PyPDF2.PdfFileReader(pdf_file)\n",
    "number_of_pages = read_pdf.getNumPages()"
   ],
   "metadata": {
    "collapsed": false,
    "pycharm": {
     "name": "#%%\n"
    }
   }
  },
  {
   "cell_type": "code",
   "execution_count": 140,
   "outputs": [
    {
     "name": "stdout",
     "output_type": "stream",
     "text": [
      " \n",
      " \n",
      " \n",
      " \n",
      " \n",
      "Item\n",
      " \n",
      " \n",
      "Subject device\n",
      " \n",
      " \n",
      "Predicate device\n",
      " \n",
      "Substantially\n",
      " \n",
      "equivalence\n",
      " \n",
      " \n",
      "No.: AK3\n",
      "-\n",
      "20, AK3\n",
      "-\n",
      "25)\n",
      " \n",
      "TENS and EMS Stimulator provides 8 \n",
      "types output modes (P1\n",
      "-\n",
      "P8). TENS/EMS \n",
      "output modes (P1\n",
      "-\n",
      "P6&P8) and TENS \n",
      "output modes (P7)\n",
      " \n",
      "For TENS mode\n",
      " \n",
      "(1) Symptomatic relief of chronic \n",
      "intractable pain, (2) Post traumatic pain,\n",
      " \n",
      "(3) Post\n",
      "-\n",
      "surgical pain \n",
      "For EMS mode\n",
      " \n",
      "(1) Relaxation of Muscle spasm, (2) \n",
      "Increase of local blood flow circulation,\n",
      " \n",
      "(3) Prevention or retardation of disuse \n",
      "atrophy, (4\n",
      ") Muscle re\n",
      "-\n",
      "education, (5) \n",
      "Maintaining or increasing range of \n",
      "motion, (6) Immediate postsurgical \n",
      "stimulation of muscles to prevent venous \n",
      "thrombosis\n",
      " \n",
      " \n",
      "TENS and EMS Stimulator (Model \n",
      "No.: AK3\n",
      "-\n",
      "50)\n",
      " \n",
      "TENS and EMS Stimulator provides 10 \n",
      "types output modes \n",
      "(P0\n",
      "-\n",
      "P9). TENS output \n",
      "modes (P0\n",
      "-\n",
      "P4) and EMS output modes \n",
      "(P5\n",
      "-\n",
      "P9)\n",
      " \n",
      "For TENS mode\n",
      " \n",
      "(1) Symptomatic relief of chronic \n",
      "intractable pain, (2) Post traumatic pain,\n",
      " \n",
      "(3) Post\n",
      "-\n",
      "surgical pain\n",
      " \n",
      "For EMS mode\n",
      " \n",
      "circulation\n",
      " \n",
      "3.\n",
      " \n",
      "Prevention or retardation of disuse \n",
      "atrophy\n",
      " \n",
      "4.\n",
      " \n",
      "Muscle\n",
      " \n",
      "re\n",
      "-\n",
      "education.\n",
      " \n",
      "5.\n",
      " \n",
      "Maintaining or increasing range \n",
      "of \n",
      "motion\n",
      " \n",
      "6.\n",
      " \n",
      "Immediate\n",
      " \n",
      "post\n",
      "-\n",
      "surgical \n",
      "stimulation of calf muscles to \n",
      "prevent venous\n",
      " \n",
      "thrombosis\n",
      " \n",
      " \n",
      "\n"
     ]
    }
   ],
   "source": [
    "page = read_pdf.getPage(7)\n",
    "page_content = page.extractText().replace('\\t', '')\n",
    "print(page_content)"
   ],
   "metadata": {
    "collapsed": false,
    "pycharm": {
     "name": "#%%\n"
    }
   }
  },
  {
   "cell_type": "markdown",
   "source": [
    "Not bad and depending on out use case I'm pretty sure I can make some good headway on with jsut this data\n",
    "from a modeling perspective, but of, course more structured data is alway better. These documents tend to have\n",
    "a lot of tables so I'll try to extract come of those."
   ],
   "metadata": {
    "collapsed": false,
    "pycharm": {
     "name": "#%% md\n"
    }
   }
  },
  {
   "cell_type": "code",
   "execution_count": 141,
   "outputs": [
    {
     "data": {
      "text/plain": "0                  Item                                     Subject device  \\\n3      Proprietary Name          TENS and EMS Stimulator, TENS\\rStimulator   \n4            510(k) No.                                            K183074   \n5          Model number                    AK-10M, AK3-20,\\rAK3-25, AK3-50   \n6          Manufacturer                              ASTEK Technology Ltd.   \n7   Prescription or OTC                                       Prescription   \n8     Regulation Number                                           890.5850   \n9          Product code                                           IPF, GZJ   \n10         Intended Use  TENS Stimulator (Model No.: AK-\\r10M)\\rTENS St...   \n\n0                                    Predicate device equivalence  \n3   FOES 101 (ED401) TENS and EMS\\rStimulator, FOE...           -  \n4                                             K113010           -  \n5                                     FOES101 (ED401)           -  \n6                         Famidoc Technology Co., Ltd           -  \n7                                        Prescription        Same  \n8                                            890.5850        Same  \n9                                            IPF, GZJ        Same  \n10  FDES 101 (ED401) TENS and EMS\\rStimulator\\rFor...        Same  ",
      "text/html": "<div>\n<style scoped>\n    .dataframe tbody tr th:only-of-type {\n        vertical-align: middle;\n    }\n\n    .dataframe tbody tr th {\n        vertical-align: top;\n    }\n\n    .dataframe thead th {\n        text-align: right;\n    }\n</style>\n<table border=\"1\" class=\"dataframe\">\n  <thead>\n    <tr style=\"text-align: right;\">\n      <th></th>\n      <th>Item</th>\n      <th>Subject device</th>\n      <th>Predicate device</th>\n      <th>equivalence</th>\n    </tr>\n  </thead>\n  <tbody>\n    <tr>\n      <th>3</th>\n      <td>Proprietary Name</td>\n      <td>TENS and EMS Stimulator, TENS\\rStimulator</td>\n      <td>FOES 101 (ED401) TENS and EMS\\rStimulator, FOE...</td>\n      <td>-</td>\n    </tr>\n    <tr>\n      <th>4</th>\n      <td>510(k) No.</td>\n      <td>K183074</td>\n      <td>K113010</td>\n      <td>-</td>\n    </tr>\n    <tr>\n      <th>5</th>\n      <td>Model number</td>\n      <td>AK-10M, AK3-20,\\rAK3-25, AK3-50</td>\n      <td>FOES101 (ED401)</td>\n      <td>-</td>\n    </tr>\n    <tr>\n      <th>6</th>\n      <td>Manufacturer</td>\n      <td>ASTEK Technology Ltd.</td>\n      <td>Famidoc Technology Co., Ltd</td>\n      <td>-</td>\n    </tr>\n    <tr>\n      <th>7</th>\n      <td>Prescription or OTC</td>\n      <td>Prescription</td>\n      <td>Prescription</td>\n      <td>Same</td>\n    </tr>\n    <tr>\n      <th>8</th>\n      <td>Regulation Number</td>\n      <td>890.5850</td>\n      <td>890.5850</td>\n      <td>Same</td>\n    </tr>\n    <tr>\n      <th>9</th>\n      <td>Product code</td>\n      <td>IPF, GZJ</td>\n      <td>IPF, GZJ</td>\n      <td>Same</td>\n    </tr>\n    <tr>\n      <th>10</th>\n      <td>Intended Use</td>\n      <td>TENS Stimulator (Model No.: AK-\\r10M)\\rTENS St...</td>\n      <td>FDES 101 (ED401) TENS and EMS\\rStimulator\\rFor...</td>\n      <td>Same</td>\n    </tr>\n  </tbody>\n</table>\n</div>"
     },
     "execution_count": 141,
     "metadata": {},
     "output_type": "execute_result"
    }
   ],
   "source": [
    "def read_and_clean(page_num, headers=True):\n",
    "    table = tabula.io.read_pdf(loc, pages=page_num)\n",
    "    df = table[0]\n",
    "    df = df.dropna(how='all')\n",
    "    if len(table) < 1:\n",
    "        raise EOFError('No tables found on this page')\n",
    "\n",
    "    if headers:\n",
    "       df .columns = df.iloc[0]\n",
    "       df = df.iloc[1:]\n",
    "\n",
    "    return df\n",
    "\n",
    "df = read_and_clean(7)\n",
    "df"
   ],
   "metadata": {
    "collapsed": false,
    "pycharm": {
     "name": "#%%\n"
    }
   }
  },
  {
   "cell_type": "markdown",
   "source": [
    "The above function takes a table from a specific page and converts it to a pandas dataframe. It seems to work\n",
    "pretty well. The only issue is that I manually entered:\n",
    "1. the page with the table on it\n",
    "2. if headers were included\n",
    "3. how far the table continues (over multi page tables)\n",
    "\n",
    "So if we combine this with a simple classifier, I think we can get some reasonably robust data extraction.\n",
    "\n",
    "I will be working on the classifier extraction now\n",
    "\n"
   ],
   "metadata": {
    "collapsed": false,
    "pycharm": {
     "name": "#%% md\n"
    }
   },
   "outputs": [
    {
     "ename": "SyntaxError",
     "evalue": "invalid syntax (<ipython-input-142-bda48db3b0c0>, line 1)",
     "output_type": "error",
     "traceback": [
      "\u001B[0;36m  File \u001B[0;32m\"<ipython-input-142-bda48db3b0c0>\"\u001B[0;36m, line \u001B[0;32m1\u001B[0m\n\u001B[0;31m    The above function takes a table from a\u001B[0m\n\u001B[0m        ^\u001B[0m\n\u001B[0;31mSyntaxError\u001B[0m\u001B[0;31m:\u001B[0m invalid syntax\n"
     ]
    }
   ],
   "execution_count": 142
  }
 ],
 "metadata": {
  "kernelspec": {
   "display_name": "Python 3",
   "language": "python",
   "name": "python3"
  },
  "language_info": {
   "codemirror_mode": {
    "name": "ipython",
    "version": 2
   },
   "file_extension": ".py",
   "mimetype": "text/x-python",
   "name": "python",
   "nbconvert_exporter": "python",
   "pygments_lexer": "ipython2",
   "version": "2.7.6"
  }
 },
 "nbformat": 4,
 "nbformat_minor": 0
}