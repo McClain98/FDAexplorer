{
 "cells": [
  {
   "cell_type": "code",
   "execution_count": 14,
   "metadata": {
    "collapsed": true
   },
   "outputs": [],
   "source": [
    "import pandas as pd\n",
    "import numpy as np\n",
    "import os\n",
    "from datetime import datetime\n",
    "import sys\n",
    "sys.path.append(\"..\")\n",
    "from src.data import metadata"
   ]
  },
  {
   "cell_type": "code",
   "execution_count": 32,
   "outputs": [],
   "source": [
    "metadata_df = metadata.build_df()"
   ],
   "metadata": {
    "collapsed": false,
    "pycharm": {
     "name": "#%%\n"
    }
   }
  },
  {
   "cell_type": "code",
   "execution_count": 33,
   "outputs": [
    {
     "data": {
      "text/plain": "       KNUMBER                            APPLICANT              CONTACT  \\\n0      K760001                         ZIMMER, INC.                  NaN   \n1      K760002                         ZIMMER, INC.                  NaN   \n2      K760003                         ZIMMER, INC.                  NaN   \n3      K760004         STEWART-NAUMANN LABORATORIES                  NaN   \n4      K760005         STEWART-NAUMANN LABORATORIES                  NaN   \n...        ...                                  ...                  ...   \n23311  K955593  SHIPPERT MEDICAL TECHNOLOGIES CORP.          SARAH  LAKE   \n23312  K955609                      COLOPLAST CORP.     M. SYDNEY  LILLY   \n23313  K955613                 MISTEN MEDICAL CORP.      GEORGE W MURRAY   \n23314  K955615                 MISTEN MEDICAL CORP.      GEORGE W MURRAY   \n23315  K955946  PRESSING DI MONTICELLI RAG. STEFANO  STEFANO  MONTICELLI   \n\n                          STREET1   STREET2        CITY STATE COUNTRY_CODE  \\\n0         4221 Richmond Rd., N.W.       NaN      Walker    MI           US   \n1                             NaN       NaN         NaN    MO           US   \n2        803 N. Front St. Suite 3       NaN     McHenry    IL           US   \n3        803 N. Front St. Suite 3       NaN     McHenry    IL           US   \n4        803 N. Front St. Suite 3       NaN     McHenry    IL           US   \n...                           ...       ...         ...   ...          ...   \n23311  7002 SOUTH REVERE PARKWAY,  SUITE 60   ENGLEWOOD    CO           US   \n23312          1955 WEST OAK CIR.       NaN    MARIETTA    GA           US   \n23313              7220 STOUT RD.       NaN  GERMANTOWN    TN           US   \n23314              7220 STOUT RD.       NaN  GERMANTOWN    TN           US   \n23315      233 VIA EMILIA ROMAGNA       NaN   CATTILICA   NaN           IT   \n\n              ZIP POSTAL_CODE  ... DECISION REVIEWADVISECOMM PRODUCTCODE  \\\n0           49534       49534  ...     SESE               PM         NaN   \n1             NaN         NaN  ...     SESE               PM         IQI   \n2           60050       60050  ...     SESE               PM         ITG   \n3           60050       60050  ...     SESE               HO         FMF   \n4           60050       60050  ...     SESE               HO         FMF   \n...           ...         ...  ...      ...              ...         ...   \n23311       80112       80112  ...     SESE               EN         EMX   \n23312  30062-2249  30062-2249  ...     SESE               GU         FAQ   \n23313       38138       38138  ...     SESE               EN         ETB   \n23314       38138       38138  ...     SESE               EN         ETA   \n23315       47033       47033  ...     SESE               DE         EHP   \n\n      STATEORSUMM CLASSADVISECOMM SSPINDICATOR         TYPE  THIRDPARTY  \\\n0             NaN             NaN          NaN  Traditional           N   \n1             NaN              PM          NaN  Traditional           N   \n2             NaN              PM          NaN  Traditional           N   \n3             NaN              HO          NaN  Traditional           N   \n4             NaN              HO          NaN  Traditional           N   \n...           ...             ...          ...          ...         ...   \n23311     Summary              EN          NaN  Traditional           N   \n23312   Statement              GU          NaN  Traditional           N   \n23313   Statement              EN          NaN  Traditional           N   \n23314   Statement              EN          NaN  Traditional           N   \n23315     Summary              DE          NaN  Traditional           N   \n\n      EXPEDITEDREVIEW                                         DEVICENAME  \n0                 NaN                            ARCH SUPPORT (ARCH AID)  \n1                 NaN                                           KNEE AID  \n2                 NaN                 CAST MATERIAL (WICKET STOCKINETTE)  \n3                 NaN                   SYRINGE, DISPOSABLE, ALL PLASTIC  \n4                 NaN               SYRINGE, DISPOSABLE, GLASS & PLASTIC  \n...               ...                                                ...  \n23311             NaN  EXPANDACELL ANATOMICAL POSTERIOR NASAL PACK W/...  \n23312             NaN                        CONVEEN URINE BAG - STERILE  \n23313             NaN  MISTEN MEDICAL PARTIAL OSSICULAR REPLACEMENT P...  \n23314             NaN  MISTEN MEDICAL TOTAL OSSICULAR REPLACEMENT PRO...  \n23315             NaN                      ACETAL DENTAL/PREFORMED CLASP  \n\n[75477 rows x 22 columns]",
      "text/html": "<div>\n<style scoped>\n    .dataframe tbody tr th:only-of-type {\n        vertical-align: middle;\n    }\n\n    .dataframe tbody tr th {\n        vertical-align: top;\n    }\n\n    .dataframe thead th {\n        text-align: right;\n    }\n</style>\n<table border=\"1\" class=\"dataframe\">\n  <thead>\n    <tr style=\"text-align: right;\">\n      <th></th>\n      <th>KNUMBER</th>\n      <th>APPLICANT</th>\n      <th>CONTACT</th>\n      <th>STREET1</th>\n      <th>STREET2</th>\n      <th>CITY</th>\n      <th>STATE</th>\n      <th>COUNTRY_CODE</th>\n      <th>ZIP</th>\n      <th>POSTAL_CODE</th>\n      <th>...</th>\n      <th>DECISION</th>\n      <th>REVIEWADVISECOMM</th>\n      <th>PRODUCTCODE</th>\n      <th>STATEORSUMM</th>\n      <th>CLASSADVISECOMM</th>\n      <th>SSPINDICATOR</th>\n      <th>TYPE</th>\n      <th>THIRDPARTY</th>\n      <th>EXPEDITEDREVIEW</th>\n      <th>DEVICENAME</th>\n    </tr>\n  </thead>\n  <tbody>\n    <tr>\n      <th>0</th>\n      <td>K760001</td>\n      <td>ZIMMER, INC.</td>\n      <td>NaN</td>\n      <td>4221 Richmond Rd., N.W.</td>\n      <td>NaN</td>\n      <td>Walker</td>\n      <td>MI</td>\n      <td>US</td>\n      <td>49534</td>\n      <td>49534</td>\n      <td>...</td>\n      <td>SESE</td>\n      <td>PM</td>\n      <td>NaN</td>\n      <td>NaN</td>\n      <td>NaN</td>\n      <td>NaN</td>\n      <td>Traditional</td>\n      <td>N</td>\n      <td>NaN</td>\n      <td>ARCH SUPPORT (ARCH AID)</td>\n    </tr>\n    <tr>\n      <th>1</th>\n      <td>K760002</td>\n      <td>ZIMMER, INC.</td>\n      <td>NaN</td>\n      <td>NaN</td>\n      <td>NaN</td>\n      <td>NaN</td>\n      <td>MO</td>\n      <td>US</td>\n      <td>NaN</td>\n      <td>NaN</td>\n      <td>...</td>\n      <td>SESE</td>\n      <td>PM</td>\n      <td>IQI</td>\n      <td>NaN</td>\n      <td>PM</td>\n      <td>NaN</td>\n      <td>Traditional</td>\n      <td>N</td>\n      <td>NaN</td>\n      <td>KNEE AID</td>\n    </tr>\n    <tr>\n      <th>2</th>\n      <td>K760003</td>\n      <td>ZIMMER, INC.</td>\n      <td>NaN</td>\n      <td>803 N. Front St. Suite 3</td>\n      <td>NaN</td>\n      <td>McHenry</td>\n      <td>IL</td>\n      <td>US</td>\n      <td>60050</td>\n      <td>60050</td>\n      <td>...</td>\n      <td>SESE</td>\n      <td>PM</td>\n      <td>ITG</td>\n      <td>NaN</td>\n      <td>PM</td>\n      <td>NaN</td>\n      <td>Traditional</td>\n      <td>N</td>\n      <td>NaN</td>\n      <td>CAST MATERIAL (WICKET STOCKINETTE)</td>\n    </tr>\n    <tr>\n      <th>3</th>\n      <td>K760004</td>\n      <td>STEWART-NAUMANN LABORATORIES</td>\n      <td>NaN</td>\n      <td>803 N. Front St. Suite 3</td>\n      <td>NaN</td>\n      <td>McHenry</td>\n      <td>IL</td>\n      <td>US</td>\n      <td>60050</td>\n      <td>60050</td>\n      <td>...</td>\n      <td>SESE</td>\n      <td>HO</td>\n      <td>FMF</td>\n      <td>NaN</td>\n      <td>HO</td>\n      <td>NaN</td>\n      <td>Traditional</td>\n      <td>N</td>\n      <td>NaN</td>\n      <td>SYRINGE, DISPOSABLE, ALL PLASTIC</td>\n    </tr>\n    <tr>\n      <th>4</th>\n      <td>K760005</td>\n      <td>STEWART-NAUMANN LABORATORIES</td>\n      <td>NaN</td>\n      <td>803 N. Front St. Suite 3</td>\n      <td>NaN</td>\n      <td>McHenry</td>\n      <td>IL</td>\n      <td>US</td>\n      <td>60050</td>\n      <td>60050</td>\n      <td>...</td>\n      <td>SESE</td>\n      <td>HO</td>\n      <td>FMF</td>\n      <td>NaN</td>\n      <td>HO</td>\n      <td>NaN</td>\n      <td>Traditional</td>\n      <td>N</td>\n      <td>NaN</td>\n      <td>SYRINGE, DISPOSABLE, GLASS &amp; PLASTIC</td>\n    </tr>\n    <tr>\n      <th>...</th>\n      <td>...</td>\n      <td>...</td>\n      <td>...</td>\n      <td>...</td>\n      <td>...</td>\n      <td>...</td>\n      <td>...</td>\n      <td>...</td>\n      <td>...</td>\n      <td>...</td>\n      <td>...</td>\n      <td>...</td>\n      <td>...</td>\n      <td>...</td>\n      <td>...</td>\n      <td>...</td>\n      <td>...</td>\n      <td>...</td>\n      <td>...</td>\n      <td>...</td>\n      <td>...</td>\n    </tr>\n    <tr>\n      <th>23311</th>\n      <td>K955593</td>\n      <td>SHIPPERT MEDICAL TECHNOLOGIES CORP.</td>\n      <td>SARAH  LAKE</td>\n      <td>7002 SOUTH REVERE PARKWAY,</td>\n      <td>SUITE 60</td>\n      <td>ENGLEWOOD</td>\n      <td>CO</td>\n      <td>US</td>\n      <td>80112</td>\n      <td>80112</td>\n      <td>...</td>\n      <td>SESE</td>\n      <td>EN</td>\n      <td>EMX</td>\n      <td>Summary</td>\n      <td>EN</td>\n      <td>NaN</td>\n      <td>Traditional</td>\n      <td>N</td>\n      <td>NaN</td>\n      <td>EXPANDACELL ANATOMICAL POSTERIOR NASAL PACK W/...</td>\n    </tr>\n    <tr>\n      <th>23312</th>\n      <td>K955609</td>\n      <td>COLOPLAST CORP.</td>\n      <td>M. SYDNEY  LILLY</td>\n      <td>1955 WEST OAK CIR.</td>\n      <td>NaN</td>\n      <td>MARIETTA</td>\n      <td>GA</td>\n      <td>US</td>\n      <td>30062-2249</td>\n      <td>30062-2249</td>\n      <td>...</td>\n      <td>SESE</td>\n      <td>GU</td>\n      <td>FAQ</td>\n      <td>Statement</td>\n      <td>GU</td>\n      <td>NaN</td>\n      <td>Traditional</td>\n      <td>N</td>\n      <td>NaN</td>\n      <td>CONVEEN URINE BAG - STERILE</td>\n    </tr>\n    <tr>\n      <th>23313</th>\n      <td>K955613</td>\n      <td>MISTEN MEDICAL CORP.</td>\n      <td>GEORGE W MURRAY</td>\n      <td>7220 STOUT RD.</td>\n      <td>NaN</td>\n      <td>GERMANTOWN</td>\n      <td>TN</td>\n      <td>US</td>\n      <td>38138</td>\n      <td>38138</td>\n      <td>...</td>\n      <td>SESE</td>\n      <td>EN</td>\n      <td>ETB</td>\n      <td>Statement</td>\n      <td>EN</td>\n      <td>NaN</td>\n      <td>Traditional</td>\n      <td>N</td>\n      <td>NaN</td>\n      <td>MISTEN MEDICAL PARTIAL OSSICULAR REPLACEMENT P...</td>\n    </tr>\n    <tr>\n      <th>23314</th>\n      <td>K955615</td>\n      <td>MISTEN MEDICAL CORP.</td>\n      <td>GEORGE W MURRAY</td>\n      <td>7220 STOUT RD.</td>\n      <td>NaN</td>\n      <td>GERMANTOWN</td>\n      <td>TN</td>\n      <td>US</td>\n      <td>38138</td>\n      <td>38138</td>\n      <td>...</td>\n      <td>SESE</td>\n      <td>EN</td>\n      <td>ETA</td>\n      <td>Statement</td>\n      <td>EN</td>\n      <td>NaN</td>\n      <td>Traditional</td>\n      <td>N</td>\n      <td>NaN</td>\n      <td>MISTEN MEDICAL TOTAL OSSICULAR REPLACEMENT PRO...</td>\n    </tr>\n    <tr>\n      <th>23315</th>\n      <td>K955946</td>\n      <td>PRESSING DI MONTICELLI RAG. STEFANO</td>\n      <td>STEFANO  MONTICELLI</td>\n      <td>233 VIA EMILIA ROMAGNA</td>\n      <td>NaN</td>\n      <td>CATTILICA</td>\n      <td>NaN</td>\n      <td>IT</td>\n      <td>47033</td>\n      <td>47033</td>\n      <td>...</td>\n      <td>SESE</td>\n      <td>DE</td>\n      <td>EHP</td>\n      <td>Summary</td>\n      <td>DE</td>\n      <td>NaN</td>\n      <td>Traditional</td>\n      <td>N</td>\n      <td>NaN</td>\n      <td>ACETAL DENTAL/PREFORMED CLASP</td>\n    </tr>\n  </tbody>\n</table>\n<p>75477 rows × 22 columns</p>\n</div>"
     },
     "execution_count": 33,
     "metadata": {},
     "output_type": "execute_result"
    }
   ],
   "source": [
    "metadata_df"
   ],
   "metadata": {
    "collapsed": false,
    "pycharm": {
     "name": "#%%\n"
    }
   }
  },
  {
   "cell_type": "code",
   "execution_count": null,
   "outputs": [],
   "source": [],
   "metadata": {
    "collapsed": false,
    "pycharm": {
     "name": "#%%\n"
    }
   }
  }
 ],
 "metadata": {
  "kernelspec": {
   "display_name": "Python 3",
   "language": "python",
   "name": "python3"
  },
  "language_info": {
   "codemirror_mode": {
    "name": "ipython",
    "version": 2
   },
   "file_extension": ".py",
   "mimetype": "text/x-python",
   "name": "python",
   "nbconvert_exporter": "python",
   "pygments_lexer": "ipython2",
   "version": "2.7.6"
  }
 },
 "nbformat": 4,
 "nbformat_minor": 0
}